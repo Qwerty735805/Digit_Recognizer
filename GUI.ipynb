{
 "cells": [
  {
   "cell_type": "code",
   "execution_count": 1,
   "metadata": {},
   "outputs": [
    {
     "name": "stderr",
     "output_type": "stream",
     "text": [
      "Using TensorFlow backend.\n"
     ]
    }
   ],
   "source": [
    "import tensorflow as tf\n",
    "from keras.models import load_model\n",
    "import cv2\n",
    "import os\n",
    "import numpy as np\n",
    "from PIL import ImageTk, Image, ImageDraw\n",
    "import PIL\n",
    "import tkinter as tk\n",
    "from tkinter import *"
   ]
  },
  {
   "cell_type": "code",
   "execution_count": 2,
   "metadata": {},
   "outputs": [],
   "source": [
    "clf=tf.keras.models.load_model('model.h5')"
   ]
  },
  {
   "cell_type": "code",
   "execution_count": 3,
   "metadata": {},
   "outputs": [],
   "source": [
    "def testing():\n",
    "    img=cv2.imread('image.png',0)\n",
    "    img=cv2.bitwise_not(img)\n",
    "    img=cv2.resize(img,(28,28))\n",
    "#     cv2.imshow('img',img)\n",
    "    img=img.reshape(1,28,28,1)\n",
    "    img=img.astype('float32')\n",
    "    img=img/255.0\n",
    "    pred=clf.predict(img)\n",
    "    return pred"
   ]
  },
  {
   "cell_type": "code",
   "execution_count": 4,
   "metadata": {},
   "outputs": [],
   "source": [
    "classes=[0,1,2,3,4,5,6,7,8,9]"
   ]
  },
  {
   "cell_type": "code",
   "execution_count": 5,
   "metadata": {},
   "outputs": [],
   "source": [
    "def paint(event):\n",
    "    x1, y1 = (event.x - 10), (event.y - 10)\n",
    "    x2, y2 = (event.x + 10), (event.y + 10)\n",
    "    cv.create_oval(x1, y1, x2, y2, fill=\"black\",outline='black',width=5)\n",
    "    draw.line([x1, y1, x2, y2],fill=\"black\",width=5)\n",
    "def model():\n",
    "    filename = \"image.png\"\n",
    "    image1.save(filename)\n",
    "    pred=testing()\n",
    "    print(pred[0][np.argmax(pred[0])],'\\n',classes[np.argmax(pred[0])])\n",
    "    txt.insert(tk.INSERT,\"{}\\nAccuracy: {}%\".format(classes[np.argmax(pred[0])],round(pred[0][np.argmax(pred[0])]*100,3)))\n",
    "    \n",
    "def clear():\n",
    "    cv.delete('all')\n",
    "    draw.rectangle((0, 0, 500, 500), fill=(255, 255, 255, 0))\n",
    "    txt.delete('1.0', END)"
   ]
  },
  {
   "cell_type": "code",
   "execution_count": 6,
   "metadata": {},
   "outputs": [
    {
     "name": "stdout",
     "output_type": "stream",
     "text": [
      "0.8722991 \n",
      " 7\n",
      "0.91470486 \n",
      " 3\n",
      "0.9572944 \n",
      " 5\n",
      "0.944659 \n",
      " 9\n",
      "0.9973162 \n",
      " 1\n",
      "0.888231 \n",
      " 7\n"
     ]
    }
   ],
   "source": [
    "root = Tk()\n",
    "# root.geometry('1000x500') \n",
    "\n",
    "root.resizable(0,0)\n",
    "cv = Canvas(root, width=500, height=600, bg='white')\n",
    "cv.pack()\n",
    "\n",
    "# PIL create an empty image and draw object to draw on\n",
    "# memory only, not visible\n",
    "image1 = PIL.Image.new(\"RGB\", (500, 600), (255,255,255))\n",
    "draw = ImageDraw.Draw(image1)\n",
    "\n",
    "txt=tk.Text(root,bd=3,exportselection=0,bg='WHITE',font='Helvetica',\n",
    "            padx=10,pady=10,height=5,width=20)\n",
    "\n",
    "cv.pack(expand=YES, fill=BOTH)\n",
    "cv.bind(\"<B1-Motion>\", paint)\n",
    "\n",
    "\n",
    "btnModel=Button(text=\"Predict\",command=model)\n",
    "btnClear=Button(text=\"clear\",command=clear)\n",
    "##button.pack()\n",
    "btnModel.pack()\n",
    "btnClear.pack()\n",
    "txt.pack()\n",
    "root.title('Digit Recognizer')\n",
    "root.mainloop()"
   ]
  },
  {
   "cell_type": "code",
   "execution_count": null,
   "metadata": {},
   "outputs": [],
   "source": []
  }
 ],
 "metadata": {
  "kernelspec": {
   "display_name": "Python 3",
   "language": "python",
   "name": "python3"
  },
  "language_info": {
   "codemirror_mode": {
    "name": "ipython",
    "version": 3
   },
   "file_extension": ".py",
   "mimetype": "text/x-python",
   "name": "python",
   "nbconvert_exporter": "python",
   "pygments_lexer": "ipython3",
   "version": "3.7.3"
  }
 },
 "nbformat": 4,
 "nbformat_minor": 2
}
